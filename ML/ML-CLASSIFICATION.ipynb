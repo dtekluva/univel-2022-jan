{
 "cells": [
  {
   "cell_type": "code",
   "execution_count": 65,
   "id": "c73b3948",
   "metadata": {},
   "outputs": [],
   "source": [
    "from sklearn.neighbors import KNeighborsClassifier\n",
    "from sklearn.metrics import accuracy_score\n",
    "from sklearn.metrics import classification_report, confusion_matrix\n",
    "from sklearn.datasets import make_blobs\n",
    "from sklearn.model_selection  import train_test_split\n",
    "import matplotlib.pyplot as plt\n",
    "import numpy as np\n",
    "import pandas as pd\n",
    "import seaborn as sns"
   ]
  },
  {
   "cell_type": "code",
   "execution_count": 34,
   "id": "02a0199c",
   "metadata": {},
   "outputs": [],
   "source": [
    "X, Y = make_blobs(n_samples=30, centers=3, n_features=1, random_state=0)"
   ]
  },
  {
   "cell_type": "code",
   "execution_count": 33,
   "id": "c2498199",
   "metadata": {},
   "outputs": [],
   "source": [
    "# X"
   ]
  },
  {
   "cell_type": "code",
   "execution_count": 30,
   "id": "1b26beb6",
   "metadata": {},
   "outputs": [
    {
     "data": {
      "text/plain": [
       "array([ 2.62170756,  2.20453261,  0.13354602,  3.73708971,  0.47039354,\n",
       "        1.81311801,  1.46058223,  4.98435457,  4.6807143 ,  4.33722626,\n",
       "        2.10263234,  4.57898564,  1.72221012,  2.24238861,  4.12220475,\n",
       "        3.59029665,  3.92931564,  3.45073979,  3.56965881, -1.29205812,\n",
       "        2.74029064,  3.34303272,  5.71399196,  3.52147086,  2.94619453,\n",
       "        1.55541056,  2.05708199,  0.97698952,  2.30981546,  3.51800797])"
      ]
     },
     "execution_count": 30,
     "metadata": {},
     "output_type": "execute_result"
    }
   ],
   "source": [
    "X.reshape(30,)"
   ]
  },
  {
   "cell_type": "code",
   "execution_count": 31,
   "id": "80bcd64a",
   "metadata": {},
   "outputs": [],
   "source": [
    "df = pd.DataFrame(dict(X=X.reshape(30,), Y=Y))"
   ]
  },
  {
   "cell_type": "code",
   "execution_count": 32,
   "id": "462b5aec",
   "metadata": {},
   "outputs": [
    {
     "data": {
      "text/plain": [
       "<seaborn.axisgrid.FacetGrid at 0x18d603ba948>"
      ]
     },
     "execution_count": 32,
     "metadata": {},
     "output_type": "execute_result"
    },
    {
     "data": {
      "image/png": "[encoded data removed]",
      "text/plain": [
       "<Figure size 402.375x360 with 1 Axes>"
      ]
     },
     "metadata": {
      "needs_background": "light"
     },
     "output_type": "display_data"
    }
   ],
   "source": [
    "sns.catplot(x='X', y='Y', hue='Y', data = df)"
   ]
  },
  {
   "cell_type": "code",
   "execution_count": null,
   "id": "38c7e2b3",
   "metadata": {},
   "outputs": [],
   "source": []
  },
  {
   "cell_type": "code",
   "execution_count": 36,
   "id": "747125d5",
   "metadata": {},
   "outputs": [
    {
     "data": {
      "text/plain": [
       "array([[-1.57671974,  4.95740592],\n",
       "       [-1.55508624,  3.34621413],\n",
       "       [-2.19936446,  2.5583291 ],\n",
       "       [-2.03770915,  1.73725008],\n",
       "       [ 2.21021495,  1.27582618],\n",
       "       [ 2.47034915,  4.09862906],\n",
       "       [ 1.16748177, -1.08313281],\n",
       "       [-2.42237057,  3.30478476],\n",
       "       [ 1.54561534,  0.45958936],\n",
       "       [-2.16122611,  2.5551411 ],\n",
       "       [-3.14080186,  2.70514198],\n",
       "       [-1.34947787,  2.51610133],\n",
       "       [-1.46038679,  3.22035416],\n",
       "       [ 3.2855582 ,  2.10004351],\n",
       "       [ 1.28933778,  3.44969159],\n",
       "       [ 1.9263585 ,  4.15243012],\n",
       "       [ 1.6679407 ,  0.59536091],\n",
       "       [ 1.12031365,  5.75806083],\n",
       "       [-2.3400503 ,  1.19159966],\n",
       "       [ 1.84070628,  3.56162231],\n",
       "       [ 3.58804674,  2.36702243],\n",
       "       [ 2.10102604,  0.71047981],\n",
       "       [ 1.42013331,  4.63746165],\n",
       "       [ 0.87305123,  4.71438583],\n",
       "       [ 3.2460247 ,  2.84942165],\n",
       "       [ 1.70735537,  1.05401263],\n",
       "       [ 0.34899733,  2.84843906],\n",
       "       [ 1.00671456, -0.52235428],\n",
       "       [-2.77969937,  3.69537262],\n",
       "       [ 1.7373078 ,  4.42546234]])"
      ]
     },
     "execution_count": 36,
     "metadata": {},
     "output_type": "execute_result"
    }
   ],
   "source": [
    "X"
   ]
  },
  {
   "cell_type": "code",
   "execution_count": 37,
   "id": "48ba7df0",
   "metadata": {},
   "outputs": [
    {
     "data": {
      "text/plain": [
       "array([0, 2, 2, 2, 1, 0, 1, 2, 1, 2, 2, 2, 2, 1, 0, 0, 1, 0, 2, 0, 1, 1,\n",
       "       0, 0, 0, 1, 1, 1, 2, 0])"
      ]
     },
     "execution_count": 37,
     "metadata": {},
     "output_type": "execute_result"
    }
   ],
   "source": [
    "Y"
   ]
  },
  {
   "cell_type": "code",
   "execution_count": 127,
   "id": "dc833703",
   "metadata": {},
   "outputs": [],
   "source": [
    "X, Y = make_blobs(n_samples=30, centers=3, n_features=2, cluster_std=2, random_state=0)\n",
    "df = pd.DataFrame(dict(X=X[:,0].reshape(30,), Y=X[:,1], label = Y))"
   ]
  },
  {
   "cell_type": "code",
   "execution_count": 128,
   "id": "f9f12e6a",
   "metadata": {},
   "outputs": [],
   "source": [
    "# df"
   ]
  },
  {
   "cell_type": "code",
   "execution_count": 129,
   "id": "3cb427ae",
   "metadata": {},
   "outputs": [
    {
     "data": {
      "text/plain": [
       "<seaborn.axisgrid.FacetGrid at 0x18d63a148c8>"
      ]
     },
     "execution_count": 129,
     "metadata": {},
     "output_type": "execute_result"
    },
    {
     "data": {
      "image/png": "[encoded data removed]",
      "text/plain": [
       "<Figure size 402.375x360 with 1 Axes>"
      ]
     },
     "metadata": {
      "needs_background": "light"
     },
     "output_type": "display_data"
    }
   ],
   "source": [
    "sns.catplot(x='X', y='Y', hue='label', data = df)"
   ]
  },
  {
   "cell_type": "code",
   "execution_count": 130,
   "id": "6fc22bfd",
   "metadata": {},
   "outputs": [],
   "source": [
    "# create model\n",
    "\n",
    "model= KNeighborsClassifier()\n",
    "X_train, X_test, y_train, y_test = train_test_split(df[[\"X\",\"Y\"]], df.label, test_size=0.2, random_state=0)"
   ]
  },
  {
   "cell_type": "code",
   "execution_count": 131,
   "id": "f1ce7589",
   "metadata": {},
   "outputs": [
    {
     "data": {
      "text/plain": [
       "KNeighborsClassifier()"
      ]
     },
     "execution_count": 131,
     "metadata": {},
     "output_type": "execute_result"
    }
   ],
   "source": [
    "model.fit(X_train, y_train)"
   ]
  },
  {
   "cell_type": "code",
   "execution_count": 132,
   "id": "12d53e87",
   "metadata": {},
   "outputs": [
    {
     "name": "stderr",
     "output_type": "stream",
     "text": [
      "c:\\users\\inyang\\appdata\\local\\programs\\python\\python37\\lib\\site-packages\\sklearn\\base.py:446: UserWarning: X does not have valid feature names, but KNeighborsClassifier was fitted with feature names\n",
      "  \"X does not have valid feature names, but\"\n"
     ]
    },
    {
     "data": {
      "text/plain": [
       "array([1])"
      ]
     },
     "execution_count": 132,
     "metadata": {},
     "output_type": "execute_result"
    }
   ],
   "source": [
    "model.predict([[1,1]])"
   ]
  },
  {
   "cell_type": "code",
   "execution_count": 133,
   "id": "a9fe0b68",
   "metadata": {},
   "outputs": [
    {
     "data": {
      "text/plain": [
       "<matplotlib.collections.PathCollection at 0x18d63bae248>"
      ]
     },
     "execution_count": 133,
     "metadata": {},
     "output_type": "execute_result"
    },
    {
     "data": {
      "image/png": "[encoded data removed]",
      "text/plain": [
       "<Figure size 432x288 with 1 Axes>"
      ]
     },
     "metadata": {
      "needs_background": "light"
     },
     "output_type": "display_data"
    }
   ],
   "source": [
    "plt.figure()\n",
    "plt.scatter(df.X, df.Y, c=df.label)\n",
    "plt.scatter([1], [1], c=\"r\")"
   ]
  },
  {
   "cell_type": "code",
   "execution_count": 134,
   "id": "94887072",
   "metadata": {},
   "outputs": [
    {
     "data": {
      "text/plain": [
       "<matplotlib.collections.PathCollection at 0x18d63c2b588>"
      ]
     },
     "execution_count": 134,
     "metadata": {},
     "output_type": "execute_result"
    },
    {
     "data": {
      "image/png": "[encoded data removed]",
      "text/plain": [
       "<Figure size 432x288 with 1 Axes>"
      ]
     },
     "metadata": {
      "needs_background": "light"
     },
     "output_type": "display_data"
    }
   ],
   "source": [
    "plt.figure()\n",
    "plt.scatter(df.X, df.Y, c=df.label)\n",
    "plt.scatter([2], [5], c=\"r\")"
   ]
  },
  {
   "cell_type": "code",
   "execution_count": 135,
   "id": "81073da3",
   "metadata": {},
   "outputs": [
    {
     "data": {
      "text/plain": [
       "<matplotlib.collections.PathCollection at 0x18d63ca7388>"
      ]
     },
     "execution_count": 135,
     "metadata": {},
     "output_type": "execute_result"
    },
    {
     "data": {
      "image/png": "[encoded data removed]",
      "text/plain": [
       "<Figure size 432x288 with 1 Axes>"
      ]
     },
     "metadata": {
      "needs_background": "light"
     },
     "output_type": "display_data"
    }
   ],
   "source": [
    "plt.figure()\n",
    "plt.scatter(df.X, df.Y, c=df.label)\n",
    "plt.scatter([0], [3], c=\"r\")"
   ]
  },
  {
   "cell_type": "code",
   "execution_count": 136,
   "id": "ac6b5215",
   "metadata": {},
   "outputs": [
    {
     "name": "stderr",
     "output_type": "stream",
     "text": [
      "c:\\users\\inyang\\appdata\\local\\programs\\python\\python37\\lib\\site-packages\\sklearn\\base.py:446: UserWarning: X does not have valid feature names, but KNeighborsClassifier was fitted with feature names\n",
      "  \"X does not have valid feature names, but\"\n"
     ]
    },
    {
     "data": {
      "text/plain": [
       "array([2])"
      ]
     },
     "execution_count": 136,
     "metadata": {},
     "output_type": "execute_result"
    }
   ],
   "source": [
    "model.predict([[0,3]])"
   ]
  },
  {
   "cell_type": "code",
   "execution_count": 137,
   "id": "df71b5f6",
   "metadata": {},
   "outputs": [
    {
     "data": {
      "text/plain": [
       "0.5"
      ]
     },
     "execution_count": 137,
     "metadata": {},
     "output_type": "execute_result"
    }
   ],
   "source": [
    "# ACCURACY SCORE\n",
    "y_true = y_test\n",
    "y_pred = model.predict(X_test)\n",
    "accuracy_score(y_true, y_pred)"
   ]
  },
  {
   "cell_type": "code",
   "execution_count": 138,
   "id": "fb9db8b1",
   "metadata": {},
   "outputs": [
    {
     "name": "stdout",
     "output_type": "stream",
     "text": [
      "[[0 1 0]\n",
      " [1 0 1]\n",
      " [0 0 3]]\n"
     ]
    }
   ],
   "source": [
    "print(confusion_matrix(y_true, y_pred))"
   ]
  },
  {
   "cell_type": "code",
   "execution_count": 139,
   "id": "64ab71d6",
   "metadata": {},
   "outputs": [
    {
     "data": {
      "text/plain": [
       "<AxesSubplot:>"
      ]
     },
     "execution_count": 139,
     "metadata": {},
     "output_type": "execute_result"
    },
    {
     "data": {
      "image/png": "[encoded data removed]",
      "text/plain": [
       "<Figure size 432x288 with 1 Axes>"
      ]
     },
     "metadata": {
      "needs_background": "light"
     },
     "output_type": "display_data"
    }
   ],
   "source": [
    "sns.heatmap(confusion_matrix(y_true, y_pred), annot = True, linewidths=4, cbar=False)"
   ]
  },
  {
   "cell_type": "code",
   "execution_count": 142,
   "id": "4aef0aef",
   "metadata": {},
   "outputs": [
    {
     "name": "stdout",
     "output_type": "stream",
     "text": [
      "              precision    recall  f1-score   support\n",
      "\n",
      "           0       0.00      0.00      0.00         1\n",
      "           1       0.00      0.00      0.00         2\n",
      "           2       0.75      1.00      0.86         3\n",
      "\n",
      "    accuracy                           0.50         6\n",
      "   macro avg       0.25      0.33      0.29         6\n",
      "weighted avg       0.38      0.50      0.43         6\n",
      "\n"
     ]
    }
   ],
   "source": [
    "print(classification_report(y_true, y_pred))"
   ]
  },
  {
   "cell_type": "code",
   "execution_count": 141,
   "id": "804c56e7",
   "metadata": {},
   "outputs": [],
   "source": [
    "import random"
   ]
  },
  {
   "cell_type": "code",
   "execution_count": 117,
   "id": "ddd15dad",
   "metadata": {},
   "outputs": [],
   "source": [
    "x = range(30)\n",
    "y = range(12,42)\n",
    "a = [random.randint(0,30) for i in range(30)]\n",
    "z = [random.randint(0,10) for i in range(30)]\n",
    "c = [random.randint(0,10) for i in range(30)]\n",
    "a.sort()\n",
    "z.sort()\n",
    "c.sort()"
   ]
  },
  {
   "cell_type": "code",
   "execution_count": 118,
   "id": "b2040d3e",
   "metadata": {
    "collapsed": true
   },
   "outputs": [
    {
     "data": {
      "text/html": [
       "<div>\n",
       "<style scoped>\n",
       "    .dataframe tbody tr th:only-of-type {\n",
       "        vertical-align: middle;\n",
       "    }\n",
       "\n",
       "    .dataframe tbody tr th {\n",
       "        vertical-align: top;\n",
       "    }\n",
       "\n",
       "    .dataframe thead th {\n",
       "        text-align: right;\n",
       "    }\n",
       "</style>\n",
       "<table border=\"1\" class=\"dataframe\">\n",
       "  <thead>\n",
       "    <tr style=\"text-align: right;\">\n",
       "      <th></th>\n",
       "      <th>x</th>\n",
       "      <th>y</th>\n",
       "      <th>z</th>\n",
       "      <th>a</th>\n",
       "      <th>c</th>\n",
       "    </tr>\n",
       "  </thead>\n",
       "  <tbody>\n",
       "    <tr>\n",
       "      <th>x</th>\n",
       "      <td>1.000000</td>\n",
       "      <td>1.000000</td>\n",
       "      <td>0.979472</td>\n",
       "      <td>0.978647</td>\n",
       "      <td>-0.989202</td>\n",
       "    </tr>\n",
       "    <tr>\n",
       "      <th>y</th>\n",
       "      <td>1.000000</td>\n",
       "      <td>1.000000</td>\n",
       "      <td>0.979472</td>\n",
       "      <td>0.978647</td>\n",
       "      <td>-0.989202</td>\n",
       "    </tr>\n",
       "    <tr>\n",
       "      <th>z</th>\n",
       "      <td>0.979472</td>\n",
       "      <td>0.979472</td>\n",
       "      <td>1.000000</td>\n",
       "      <td>0.936754</td>\n",
       "      <td>-0.964465</td>\n",
       "    </tr>\n",
       "    <tr>\n",
       "      <th>a</th>\n",
       "      <td>0.978647</td>\n",
       "      <td>0.978647</td>\n",
       "      <td>0.936754</td>\n",
       "      <td>1.000000</td>\n",
       "      <td>-0.976309</td>\n",
       "    </tr>\n",
       "    <tr>\n",
       "      <th>c</th>\n",
       "      <td>-0.989202</td>\n",
       "      <td>-0.989202</td>\n",
       "      <td>-0.964465</td>\n",
       "      <td>-0.976309</td>\n",
       "      <td>1.000000</td>\n",
       "    </tr>\n",
       "  </tbody>\n",
       "</table>\n",
       "</div>"
      ],
      "text/plain": [
       "          x         y         z         a         c\n",
       "x  1.000000  1.000000  0.979472  0.978647 -0.989202\n",
       "y  1.000000  1.000000  0.979472  0.978647 -0.989202\n",
       "z  0.979472  0.979472  1.000000  0.936754 -0.964465\n",
       "a  0.978647  0.978647  0.936754  1.000000 -0.976309\n",
       "c -0.989202 -0.989202 -0.964465 -0.976309  1.000000"
      ]
     },
     "execution_count": 118,
     "metadata": {},
     "output_type": "execute_result"
    }
   ],
   "source": [
    "df_data = pd.DataFrame(dict(x = x, y = y, z = z, a = a, c  = c[::-1]))\n",
    "df_data.corr()"
   ]
  },
  {
   "cell_type": "code",
   "execution_count": 119,
   "id": "9c12ee53",
   "metadata": {
    "collapsed": true
   },
   "outputs": [
    {
     "data": {
      "text/plain": [
       "<AxesSubplot:>"
      ]
     },
     "execution_count": 119,
     "metadata": {},
     "output_type": "execute_result"
    },
    {
     "data": {
      "image/png": "[encoded data removed]",
      "text/plain": [
       "<Figure size 432x288 with 2 Axes>"
      ]
     },
     "metadata": {
      "needs_background": "light"
     },
     "output_type": "display_data"
    }
   ],
   "source": [
    "sns.heatmap(df_data.corr(), annot = True, linewidths=4)"
   ]
  },
  {
   "cell_type": "code",
   "execution_count": 110,
   "id": "06092ff4",
   "metadata": {},
   "outputs": [
    {
     "data": {
      "text/plain": [
       "<matplotlib.collections.PathCollection at 0x18d634827c8>"
      ]
     },
     "execution_count": 110,
     "metadata": {},
     "output_type": "execute_result"
    },
    {
     "data": {
      "image/png": "[encoded data removed]",
      "text/plain": [
       "<Figure size 432x288 with 1 Axes>"
      ]
     },
     "metadata": {
      "needs_background": "light"
     },
     "output_type": "display_data"
    }
   ],
   "source": [
    "plt.scatter(x,a)"
   ]
  },
  {
   "cell_type": "code",
   "execution_count": null,
   "id": "eda893ca",
   "metadata": {},
   "outputs": [],
   "source": []
  }
 ],
 "metadata": {
  "kernelspec": {
   "display_name": "Python 3 (ipykernel)",
   "language": "python",
   "name": "python3"
  },
  "language_info": {
   "codemirror_mode": {
    "name": "ipython",
    "version": 3
   },
   "file_extension": ".py",
   "mimetype": "text/x-python",
   "name": "python",
   "nbconvert_exporter": "python",
   "pygments_lexer": "ipython3",
   "version": "3.7.9"
  }
 },
 "nbformat": 4,
 "nbformat_minor": 5
}
