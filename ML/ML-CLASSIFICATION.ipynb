{
 "cells": [
  {
   "cell_type": "code",
   "execution_count": 9,
   "id": "699900e2",
   "metadata": {},
   "outputs": [],
   "source": [
    "from sklearn.neighbors import KNeighborsClassifier\n",
    "from sklearn.datasets import make_blobs\n",
    "import numpy as np\n",
    "import pandas as pd\n",
    "import seaborn as sns"
   ]
  },
  {
   "cell_type": "code",
   "execution_count": 34,
   "id": "2fb168ed",
   "metadata": {},
   "outputs": [],
   "source": [
    "X, Y = make_blobs(n_samples=30, centers=3, n_features=1, random_state=0)"
   ]
  },
  {
   "cell_type": "code",
   "execution_count": 33,
   "id": "9d02ef99",
   "metadata": {},
   "outputs": [],
   "source": [
    "# X"
   ]
  },
  {
   "cell_type": "code",
   "execution_count": 30,
   "id": "0dc11b44",
   "metadata": {},
   "outputs": [
    {
     "data": {
      "text/plain": [
       "array([ 2.62170756,  2.20453261,  0.13354602,  3.73708971,  0.47039354,\n",
       "        1.81311801,  1.46058223,  4.98435457,  4.6807143 ,  4.33722626,\n",
       "        2.10263234,  4.57898564,  1.72221012,  2.24238861,  4.12220475,\n",
       "        3.59029665,  3.92931564,  3.45073979,  3.56965881, -1.29205812,\n",
       "        2.74029064,  3.34303272,  5.71399196,  3.52147086,  2.94619453,\n",
       "        1.55541056,  2.05708199,  0.97698952,  2.30981546,  3.51800797])"
      ]
     },
     "execution_count": 30,
     "metadata": {},
     "output_type": "execute_result"
    }
   ],
   "source": [
    "X.reshape(30,)"
   ]
  },
  {
   "cell_type": "code",
   "execution_count": 31,
   "id": "15de0f4a",
   "metadata": {},
   "outputs": [],
   "source": [
    "df = pd.DataFrame(dict(X=X.reshape(30,), Y=Y))"
   ]
  },
  {
   "cell_type": "code",
   "execution_count": 32,
   "id": "1e7926d2",
   "metadata": {},
   "outputs": [
    {
     "data": {
      "text/plain": [
       "<seaborn.axisgrid.FacetGrid at 0x18d603ba948>"
      ]
     },
     "execution_count": 32,
     "metadata": {},
     "output_type": "execute_result"
    },
    {
     "data": {
      "image/png": "[encoded data removed]",
      "text/plain": [
       "<Figure size 402.375x360 with 1 Axes>"
      ]
     },
     "metadata": {
      "needs_background": "light"
     },
     "output_type": "display_data"
    }
   ],
   "source": [
    "sns.catplot(x='X', y='Y', hue='Y', data = df)"
   ]
  },
  {
   "cell_type": "code",
   "execution_count": null,
   "id": "8c55864c",
   "metadata": {},
   "outputs": [],
   "source": []
  },
  {
   "cell_type": "code",
   "execution_count": 36,
   "id": "fff4586c",
   "metadata": {},
   "outputs": [
    {
     "data": {
      "text/plain": [
       "array([[-1.57671974,  4.95740592],\n",
       "       [-1.55508624,  3.34621413],\n",
       "       [-2.19936446,  2.5583291 ],\n",
       "       [-2.03770915,  1.73725008],\n",
       "       [ 2.21021495,  1.27582618],\n",
       "       [ 2.47034915,  4.09862906],\n",
       "       [ 1.16748177, -1.08313281],\n",
       "       [-2.42237057,  3.30478476],\n",
       "       [ 1.54561534,  0.45958936],\n",
       "       [-2.16122611,  2.5551411 ],\n",
       "       [-3.14080186,  2.70514198],\n",
       "       [-1.34947787,  2.51610133],\n",
       "       [-1.46038679,  3.22035416],\n",
       "       [ 3.2855582 ,  2.10004351],\n",
       "       [ 1.28933778,  3.44969159],\n",
       "       [ 1.9263585 ,  4.15243012],\n",
       "       [ 1.6679407 ,  0.59536091],\n",
       "       [ 1.12031365,  5.75806083],\n",
       "       [-2.3400503 ,  1.19159966],\n",
       "       [ 1.84070628,  3.56162231],\n",
       "       [ 3.58804674,  2.36702243],\n",
       "       [ 2.10102604,  0.71047981],\n",
       "       [ 1.42013331,  4.63746165],\n",
       "       [ 0.87305123,  4.71438583],\n",
       "       [ 3.2460247 ,  2.84942165],\n",
       "       [ 1.70735537,  1.05401263],\n",
       "       [ 0.34899733,  2.84843906],\n",
       "       [ 1.00671456, -0.52235428],\n",
       "       [-2.77969937,  3.69537262],\n",
       "       [ 1.7373078 ,  4.42546234]])"
      ]
     },
     "execution_count": 36,
     "metadata": {},
     "output_type": "execute_result"
    }
   ],
   "source": [
    "X"
   ]
  },
  {
   "cell_type": "code",
   "execution_count": 37,
   "id": "4a3e7332",
   "metadata": {},
   "outputs": [
    {
     "data": {
      "text/plain": [
       "array([0, 2, 2, 2, 1, 0, 1, 2, 1, 2, 2, 2, 2, 1, 0, 0, 1, 0, 2, 0, 1, 1,\n",
       "       0, 0, 0, 1, 1, 1, 2, 0])"
      ]
     },
     "execution_count": 37,
     "metadata": {},
     "output_type": "execute_result"
    }
   ],
   "source": [
    "Y"
   ]
  },
  {
   "cell_type": "code",
   "execution_count": 39,
   "id": "d3643f9d",
   "metadata": {},
   "outputs": [],
   "source": [
    "X, Y = make_blobs(n_samples=30, centers=3, n_features=2, random_state=0)\n",
    "df = pd.DataFrame(dict(X=X[:,0].reshape(30,), Y=X[:,1], label = Y))"
   ]
  },
  {
   "cell_type": "code",
   "execution_count": 42,
   "id": "9150583f",
   "metadata": {},
   "outputs": [],
   "source": [
    "# df"
   ]
  },
  {
   "cell_type": "code",
   "execution_count": 43,
   "id": "ffdf779d",
   "metadata": {},
   "outputs": [
    {
     "data": {
      "text/plain": [
       "<seaborn.axisgrid.FacetGrid at 0x18d60552c88>"
      ]
     },
     "execution_count": 43,
     "metadata": {},
     "output_type": "execute_result"
    },
    {
     "data": {
      "image/png": "[encoded data removed]",
      "text/plain": [
       "<Figure size 402.375x360 with 1 Axes>"
      ]
     },
     "metadata": {
      "needs_background": "light"
     },
     "output_type": "display_data"
    }
   ],
   "source": [
    "sns.catplot(x='X', y='Y', hue='label', data = df)"
   ]
  }
 ],
 "metadata": {
  "kernelspec": {
   "display_name": "Python 3 (ipykernel)",
   "language": "python",
   "name": "python3"
  },
  "language_info": {
   "codemirror_mode": {
    "name": "ipython",
    "version": 3
   },
   "file_extension": ".py",
   "mimetype": "text/x-python",
   "name": "python",
   "nbconvert_exporter": "python",
   "pygments_lexer": "ipython3",
   "version": "3.7.9"
  }
 },
 "nbformat": 4,
 "nbformat_minor": 5
}
