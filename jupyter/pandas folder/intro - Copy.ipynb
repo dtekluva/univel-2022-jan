{
 "cells": [
  {
   "cell_type": "code",
   "execution_count": 4,
   "id": "78264760",
   "metadata": {},
   "outputs": [],
   "source": [
    "import pandas as pd"
   ]
  },
  {
   "cell_type": "markdown",
   "id": "ec1aa356",
   "metadata": {},
   "source": [
    "#### CREATING SERIES"
   ]
  },
  {
   "cell_type": "code",
   "execution_count": 11,
   "id": "eed7b23e",
   "metadata": {},
   "outputs": [],
   "source": [
    "first_series = pd.Series([1,2,3,4,5,6])\n",
    "second_series = pd.Series([2,4,6,8,10,12])\n",
    "third_series = pd.Series([\"a\", \"b\", \"c\", \"d\", \"e\", \"f\"])"
   ]
  },
  {
   "cell_type": "code",
   "execution_count": 17,
   "id": "a5bb6c0a",
   "metadata": {},
   "outputs": [],
   "source": [
    "# first_series"
   ]
  },
  {
   "cell_type": "code",
   "execution_count": 18,
   "id": "944e135d",
   "metadata": {},
   "outputs": [],
   "source": [
    "# second_series"
   ]
  },
  {
   "cell_type": "markdown",
   "id": "1af38801",
   "metadata": {},
   "source": [
    "##### CREATING DATAFRAMES"
   ]
  },
  {
   "cell_type": "code",
   "execution_count": 15,
   "id": "292ebc65",
   "metadata": {},
   "outputs": [],
   "source": [
    "first_df = pd.DataFrame(dict(first_series = first_series, second_series= second_series, third_series=third_series))"
   ]
  },
  {
   "cell_type": "code",
   "execution_count": 16,
   "id": "d834f7cb",
   "metadata": {},
   "outputs": [
    {
     "data": {
      "text/html": [
       "<div>\n",
       "<style scoped>\n",
       "    .dataframe tbody tr th:only-of-type {\n",
       "        vertical-align: middle;\n",
       "    }\n",
       "\n",
       "    .dataframe tbody tr th {\n",
       "        vertical-align: top;\n",
       "    }\n",
       "\n",
       "    .dataframe thead th {\n",
       "        text-align: right;\n",
       "    }\n",
       "</style>\n",
       "<table border=\"1\" class=\"dataframe\">\n",
       "  <thead>\n",
       "    <tr style=\"text-align: right;\">\n",
       "      <th></th>\n",
       "      <th>first_series</th>\n",
       "      <th>second_series</th>\n",
       "      <th>third_series</th>\n",
       "    </tr>\n",
       "  </thead>\n",
       "  <tbody>\n",
       "    <tr>\n",
       "      <th>0</th>\n",
       "      <td>1</td>\n",
       "      <td>2</td>\n",
       "      <td>a</td>\n",
       "    </tr>\n",
       "    <tr>\n",
       "      <th>1</th>\n",
       "      <td>2</td>\n",
       "      <td>4</td>\n",
       "      <td>b</td>\n",
       "    </tr>\n",
       "    <tr>\n",
       "      <th>2</th>\n",
       "      <td>3</td>\n",
       "      <td>6</td>\n",
       "      <td>c</td>\n",
       "    </tr>\n",
       "    <tr>\n",
       "      <th>3</th>\n",
       "      <td>4</td>\n",
       "      <td>8</td>\n",
       "      <td>d</td>\n",
       "    </tr>\n",
       "    <tr>\n",
       "      <th>4</th>\n",
       "      <td>5</td>\n",
       "      <td>10</td>\n",
       "      <td>e</td>\n",
       "    </tr>\n",
       "    <tr>\n",
       "      <th>5</th>\n",
       "      <td>6</td>\n",
       "      <td>12</td>\n",
       "      <td>f</td>\n",
       "    </tr>\n",
       "  </tbody>\n",
       "</table>\n",
       "</div>"
      ],
      "text/plain": [
       "   first_series  second_series third_series\n",
       "0             1              2            a\n",
       "1             2              4            b\n",
       "2             3              6            c\n",
       "3             4              8            d\n",
       "4             5             10            e\n",
       "5             6             12            f"
      ]
     },
     "execution_count": 16,
     "metadata": {},
     "output_type": "execute_result"
    }
   ],
   "source": [
    "first_df"
   ]
  },
  {
   "cell_type": "markdown",
   "id": "c0d6c92c",
   "metadata": {},
   "source": [
    "### Export dataframe as csv"
   ]
  },
  {
   "cell_type": "code",
   "execution_count": 19,
   "id": "5e546c4c",
   "metadata": {},
   "outputs": [],
   "source": [
    "first_df.to_csv(\"data.csv\")"
   ]
  },
  {
   "cell_type": "code",
   "execution_count": null,
   "id": "d89fb961",
   "metadata": {},
   "outputs": [],
   "source": []
  }
 ],
 "metadata": {
  "kernelspec": {
   "display_name": "Python 3 (ipykernel)",
   "language": "python",
   "name": "python3"
  },
  "language_info": {
   "codemirror_mode": {
    "name": "ipython",
    "version": 3
   },
   "file_extension": ".py",
   "mimetype": "text/x-python",
   "name": "python",
   "nbconvert_exporter": "python",
   "pygments_lexer": "ipython3",
   "version": "3.7.9"
  }
 },
 "nbformat": 4,
 "nbformat_minor": 5
}
