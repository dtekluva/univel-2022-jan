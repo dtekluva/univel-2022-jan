{
 "cells": [
  {
   "cell_type": "code",
   "execution_count": 2,
   "id": "c0a1cd2a",
   "metadata": {},
   "outputs": [],
   "source": [
    "import numpy\n",
    "import numpy as np"
   ]
  },
  {
   "cell_type": "code",
   "execution_count": 3,
   "id": "1cfa27a8",
   "metadata": {},
   "outputs": [],
   "source": [
    "# !pip install numpy"
   ]
  },
  {
   "cell_type": "code",
   "execution_count": 4,
   "id": "db1b573e",
   "metadata": {},
   "outputs": [
    {
     "data": {
      "text/plain": [
       "<module 'numpy' from 'c:\\\\users\\\\inyang\\\\appdata\\\\local\\\\programs\\\\python\\\\python37\\\\lib\\\\site-packages\\\\numpy\\\\__init__.py'>"
      ]
     },
     "execution_count": 4,
     "metadata": {},
     "output_type": "execute_result"
    }
   ],
   "source": [
    "numpy"
   ]
  },
  {
   "cell_type": "code",
   "execution_count": 5,
   "id": "09fdab12",
   "metadata": {},
   "outputs": [
    {
     "name": "stdout",
     "output_type": "stream",
     "text": [
      "[1 2 3 4 5]\n",
      "<class 'numpy.ndarray'>\n"
     ]
    }
   ],
   "source": [
    "python_list = (1, 2, 3, 4, 5)\n",
    "arr = np.array(python_list)\n",
    "\n",
    "print(arr)\n",
    "print(type(arr))"
   ]
  },
  {
   "cell_type": "code",
   "execution_count": 6,
   "id": "b3aaaf27",
   "metadata": {},
   "outputs": [],
   "source": [
    "# THE MAIN REASON WHY ONE WOULD USE NUMPY IS SPEED\n",
    "# NUMPY ARRAYS ARE WAY FASTER THAN PYTHON LISTS"
   ]
  },
  {
   "cell_type": "code",
   "execution_count": 7,
   "id": "2da0ffa7",
   "metadata": {},
   "outputs": [],
   "source": [
    "py30bg = [num for num in range(300000000)]"
   ]
  },
  {
   "cell_type": "code",
   "execution_count": 8,
   "id": "82e2a3b5",
   "metadata": {},
   "outputs": [],
   "source": [
    "np30bg = np.arange(1, 300000000)"
   ]
  },
  {
   "cell_type": "code",
   "execution_count": 9,
   "id": "cc3c49d8",
   "metadata": {},
   "outputs": [],
   "source": [
    "## ALSO NUMPY ALLOWS FOR ARRAY BASED ARITHMETIC WHICH PYTHON DOES NOT NATIVELY SUPPORT"
   ]
  },
  {
   "cell_type": "code",
   "execution_count": 10,
   "id": "521bb679",
   "metadata": {},
   "outputs": [],
   "source": [
    "np_nums = np.arange(1,10000000)\n",
    "py_nums = range(1,10000000)"
   ]
  },
  {
   "cell_type": "code",
   "execution_count": 11,
   "id": "690cea03",
   "metadata": {},
   "outputs": [],
   "source": [
    "# DIVIDE ENTIRE LIST USING PYTHON\n",
    "div_py_nums = []\n",
    "\n",
    "for num in py_nums:\n",
    "    \n",
    "    num = num/5\n",
    "    div_py_nums.append(num)"
   ]
  },
  {
   "cell_type": "code",
   "execution_count": 12,
   "id": "863a5692",
   "metadata": {},
   "outputs": [],
   "source": [
    "# DIVIDE ENTIRE LIST USING PYTHON LIST COMPREHENSION\n",
    "div_py_nums = [num/5 for num in py_nums]"
   ]
  },
  {
   "cell_type": "code",
   "execution_count": 13,
   "id": "f68934b7",
   "metadata": {},
   "outputs": [
    {
     "data": {
      "text/plain": [
       "array([2.0000000e-01, 4.0000000e-01, 6.0000000e-01, ..., 1.9999994e+06,\n",
       "       1.9999996e+06, 1.9999998e+06])"
      ]
     },
     "execution_count": 13,
     "metadata": {},
     "output_type": "execute_result"
    }
   ],
   "source": [
    "# DIVIDE ENTIRE LIST USING NUMPY\n",
    "np_nums/5"
   ]
  },
  {
   "cell_type": "code",
   "execution_count": null,
   "id": "3caaaa75",
   "metadata": {},
   "outputs": [],
   "source": []
  }
 ],
 "metadata": {
  "kernelspec": {
   "display_name": "Python 3 (ipykernel)",
   "language": "python",
   "name": "python3"
  },
  "language_info": {
   "codemirror_mode": {
    "name": "ipython",
    "version": 3
   },
   "file_extension": ".py",
   "mimetype": "text/x-python",
   "name": "python",
   "nbconvert_exporter": "python",
   "pygments_lexer": "ipython3",
   "version": "3.7.9"
  }
 },
 "nbformat": 4,
 "nbformat_minor": 5
}
